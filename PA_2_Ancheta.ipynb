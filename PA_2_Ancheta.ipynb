{
 "cells": [
  {
   "cell_type": "markdown",
   "id": "0ad4a061-e013-4fa3-9dd9-756ebe30c4e3",
   "metadata": {},
   "source": [
    "# Normalized Problem\n"
   ]
  },
  {
   "cell_type": "code",
   "execution_count": 10,
   "id": "eae5c673-0adf-4b94-9108-1c9ecaff2ccd",
   "metadata": {},
   "outputs": [],
   "source": [
    "import numpy as np"
   ]
  },
  {
   "cell_type": "code",
   "execution_count": 11,
   "id": "20fc325a-0b64-4e25-a305-7a3ce8c0ce15",
   "metadata": {},
   "outputs": [],
   "source": [
    "X = np.random.rand(5, 5)"
   ]
  },
  {
   "cell_type": "code",
   "execution_count": 13,
   "id": "983d6b5c-6c79-4401-9fbb-b1ece4120943",
   "metadata": {},
   "outputs": [
    {
     "name": "stdout",
     "output_type": "stream",
     "text": [
      "Original Array (X):\n",
      " [[0.18656705 0.11395633 0.40811811 0.87967991 0.72698425]\n",
      " [0.60238104 0.41042394 0.82998272 0.07099728 0.56558024]\n",
      " [0.99051996 0.21877149 0.81878237 0.1437136  0.81659381]\n",
      " [0.41530096 0.13635563 0.64409431 0.6068243  0.15848987]\n",
      " [0.08016197 0.72855342 0.28406314 0.7305026  0.77704527]]\n",
      "\n",
      "Normalized Array (X_normalized):\n",
      " [[-1.05799334 -1.30805514 -0.29500054  1.32899648  0.80313262]\n",
      " [ 0.37401552 -0.28705957  1.15784587 -1.45600048  0.24727839]\n",
      " [ 1.71071508 -0.94708548  1.11927332 -1.20557503  1.11173622]\n",
      " [-0.27026376 -1.23091489  0.51767055  0.38931752 -1.15468749]\n",
      " [-1.42443849  0.80853666 -0.72222961  0.81524937  0.97553623]]\n"
     ]
    }
   ],
   "source": [
    "# Calculate the average value of all elements in X\n",
    "X_mean = X.mean()\n",
    "\n",
    "# Calculate the standard deviation of all elements in X\n",
    "X_std = X.std()\n",
    "\n",
    "# Standardize X by subtracting the mean and dividing by the standard deviation\n",
    "X_norm = (X - X_mean) / X_std  \n",
    "\n",
    "# Store the standardized array into a file called 'X_normalized.npy'\n",
    "np.save('X_normalized.npy', X_norm)\n",
    "\n",
    "# Display the original data\n",
    "print(\"Original Array (X):\\n\", X)\n",
    "\n",
    "# Display the standardized data\n",
    "print(\"\\nNormalized Array (X_normalized):\\n\", X_norm)\n"
   ]
  },
  {
   "cell_type": "markdown",
   "id": "9b821992-3186-4c78-a11e-7b49e7c39d0a",
   "metadata": {},
   "source": [
    "# Divisible By 3 Problem"
   ]
  },
  {
   "cell_type": "code",
   "execution_count": 14,
   "id": "6738eb64-f42e-4d97-8a3a-0eb77a2b45df",
   "metadata": {},
   "outputs": [],
   "source": [
    "# Create an array of integers from 1 to 100\n",
    "num = np.arange(1, 101)\n",
    "\n",
    "# Square each element in the array\n",
    "squares = num ** 2\n",
    "\n",
    "# Reshape the squared numbers into a 10x10 matrix\n",
    "A = squares.reshape((10, 10))\n",
    "\n",
    "# Extract only the elements that are divisible by 3\n",
    "div_by_3 = A[A % 3 == 0]\n",
    "\n",
    "# Save the filtered elements into a file named 'div_by_3.npy'\n",
    "np.save('div_by_3.npy', div_by_3)"
   ]
  },
  {
   "cell_type": "code",
   "execution_count": 18,
   "id": "6ace5e0f-211b-49b2-ad83-eeb0eda64d1d",
   "metadata": {
    "scrolled": true
   },
   "outputs": [
    {
     "name": "stdout",
     "output_type": "stream",
     "text": [
      "Original 10x10 Array:\n",
      "\n",
      "[[    1     4     9    16    25    36    49    64    81   100]\n",
      " [  121   144   169   196   225   256   289   324   361   400]\n",
      " [  441   484   529   576   625   676   729   784   841   900]\n",
      " [  961  1024  1089  1156  1225  1296  1369  1444  1521  1600]\n",
      " [ 1681  1764  1849  1936  2025  2116  2209  2304  2401  2500]\n",
      " [ 2601  2704  2809  2916  3025  3136  3249  3364  3481  3600]\n",
      " [ 3721  3844  3969  4096  4225  4356  4489  4624  4761  4900]\n",
      " [ 5041  5184  5329  5476  5625  5776  5929  6084  6241  6400]\n",
      " [ 6561  6724  6889  7056  7225  7396  7569  7744  7921  8100]\n",
      " [ 8281  8464  8649  8836  9025  9216  9409  9604  9801 10000]]\n"
     ]
    }
   ],
   "source": [
    "# Print a label for clarity\n",
    "print('Original 10x10 Array:\\n')\n",
    "\n",
    "# Display the contents of the array A\n",
    "print(A)"
   ]
  },
  {
   "cell_type": "code",
   "execution_count": 19,
   "id": "ee2630fc-2b38-458b-acb6-79fb9a45f9aa",
   "metadata": {},
   "outputs": [
    {
     "name": "stdout",
     "output_type": "stream",
     "text": [
      "Array of Squares Divisible by 3:\n",
      "\n",
      "[   9   36   81  144  225  324  441  576  729  900 1089 1296 1521 1764\n",
      " 2025 2304 2601 2916 3249 3600 3969 4356 4761 5184 5625 6084 6561 7056\n",
      " 7569 8100 8649 9216 9801]\n"
     ]
    }
   ],
   "source": [
    "# Print a label to describe what will be shown\n",
    "print('Array of Squares Divisible by 3:\\n')\n",
    "\n",
    "# Display the elements from array A that are divisible by 3\n",
    "print(div_by_3)"
   ]
  },
  {
   "cell_type": "code",
   "execution_count": null,
   "id": "ff7ad39e-e9d8-4b26-8fd7-b650a2652cef",
   "metadata": {},
   "outputs": [],
   "source": []
  }
 ],
 "metadata": {
  "kernelspec": {
   "display_name": "Python 3 (ipykernel)",
   "language": "python",
   "name": "python3"
  },
  "language_info": {
   "codemirror_mode": {
    "name": "ipython",
    "version": 3
   },
   "file_extension": ".py",
   "mimetype": "text/x-python",
   "name": "python",
   "nbconvert_exporter": "python",
   "pygments_lexer": "ipython3",
   "version": "3.13.5"
  }
 },
 "nbformat": 4,
 "nbformat_minor": 5
}
